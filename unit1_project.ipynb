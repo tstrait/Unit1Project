{
 "cells": [
  {
   "cell_type": "markdown",
   "metadata": {},
   "source": [
    "<img src=\"http://imgur.com/1ZcRyrc.png\" style=\"float: left; margin: 20px; height: 55px\">\n",
    "\n",
    "# Project 1: Python Coding Exercises\n",
    "\n",
    "_Authors: Joseph Nelson (DC) _\n",
    "\n",
    "---"
   ]
  },
  {
   "cell_type": "markdown",
   "metadata": {},
   "source": [
    "The following code challenges are drawn from common exercises used in technical interviews.\n",
    "\n",
    "Please note that there may be several ways to approach each challenge. If you get stuck, try mapping out your approach in pseudocode first. Finally, while solutions to problems like these may be found online, remember that if you copy/paste code that you can't explain, you'll be missing out on the point of the project. The only way to truly learn a new skill is through practice, trial, and error - we can only help you improve by understanding where you are having trouble."
   ]
  },
  {
   "cell_type": "markdown",
   "metadata": {},
   "source": [
    "### Challenge 1: Largest Palindrome\n",
    "A palindromic number reads the same both ways. For example, 1234321 is a palindrome. The largest palindrome made from the product of two two-digit numbers is 9009 = 91 × 99. Find the largest palindrome made from the product of two three-digit numbers. Afterward, write a brief explanation walking through your code's logic in markdown."
   ]
  },
  {
   "cell_type": "code",
   "execution_count": 8,
   "metadata": {},
   "outputs": [
    {
     "name": "stdout",
     "output_type": "stream",
     "text": [
      "906609\n"
     ]
    }
   ],
   "source": [
    "# define a list of numbers 100-1000 for all 3-digit numbers\n",
    "\n",
    "list1=list(range(100, 1000))\n",
    "\n",
    "c=[]\n",
    "\n",
    "#multiply each element of list 1 by every other element of list 1 for a giant list of all the products\n",
    "#note, list of products will have duplicate values at this point\n",
    "\n",
    "def multipliers(a):\n",
    "    for i in range(len(a)):\n",
    "        for j in range(len(a)):\n",
    "            c.append(a[i]*a[j])\n",
    "\n",
    "#define a palindrome check function that turns each value into a string and checks if its reverse is the same\n",
    "def checkpalindrome(a):\n",
    "    d=str(a)\n",
    "    return d==d[::-1]\n",
    "\n",
    "#redefine the list of products as a set, to remove duplicates\n",
    "#apply palindrome function to each value in list of products, which is sorted largest to smallest\n",
    "#once a palindrome is found, stop running\n",
    "\n",
    "def findpalindromeofproducts(listofnums):\n",
    "    setc = list(set(c))\n",
    "    setc.sort()\n",
    "    for i in setc[::-1]:\n",
    "        if checkpalindrome(i):\n",
    "            print(i)\n",
    "            break\n",
    "\n",
    "multipliers(list1)\n",
    "findpalindromeofproducts(list1)\n"
   ]
  },
  {
   "cell_type": "markdown",
   "metadata": {},
   "source": [
    "1. Define a list of all 3 digit integers\n",
    "2. Multiply each element of the list against all other elements of the list, giving a resulting list of products \n",
    "3. define a function to check if the number is a palindrome, by converting it to a string and checking if the reverse string is the same as the original.  Returns are true or false.\n",
    "4. Use the palindrome check function to loop through the list multiplier result and find the largest.  The list from the multiplied lists is sorted smallest -> largest, and we want the largest palindrome, so we want to iterate backwards and stop whenever we find the first palindrome.  Note, I reassigned the list of products as a set to remove duplicates (assuming that would lessen processing time, though not super important here since volume is small)"
   ]
  },
  {
   "cell_type": "markdown",
   "metadata": {},
   "source": [
    "\n",
    "### Challenge 2: Summation of Primes\n",
    "The sum of the primes below 10 is 2 + 3 + 5 + 7 = 17. Find the sum of all the primes below 2,000. Afterward, write a brief explanation walking through your code's logic in markdown."
   ]
  },
  {
   "cell_type": "code",
   "execution_count": 5,
   "metadata": {},
   "outputs": [
    {
     "name": "stdout",
     "output_type": "stream",
     "text": [
      "Sum= 285307\n"
     ]
    }
   ],
   "source": [
    "#define a list of all numbers 2-1999\n",
    "myrange = list(range(2,2000))\n",
    "factor_count = 0\n",
    "is_prime= []\n",
    "\n",
    "#divide every number by every other number below it; if remainder = 0, it is a factor of the first\n",
    "#If a number only has 2 factors (itself and 1), add it to the 'prime' list for summing\n",
    "for i in myrange:\n",
    "    for j in range(1,i):\n",
    "        if i%j == 0:\n",
    "            factor_count += 1\n",
    "    if factor_count <= 2:\n",
    "        is_prime.append(i)\n",
    "    factor_count = 0\n",
    "\n",
    "print('Sum=', sum(is_prime))"
   ]
  },
  {
   "cell_type": "markdown",
   "metadata": {},
   "source": [
    "1. Define a list of all numbers 2-1999 (inclusive)\n",
    "2. Set empty list to add prime numbers into\n",
    "3. Loop through the list; for every number in the list, count the factors by dividing it by all numbers lower than the number. If remainder=0, that is a facctor.  If total # of factors is 2, that number is prime.\n",
    "4. Sum the list of primes."
   ]
  },
  {
   "cell_type": "markdown",
   "metadata": {},
   "source": [
    "### Challenge 3: Multiples of 3 and 5\n",
    "If we list all of the natural numbers below 10 that are multiples of 3 or 5, we get 3, 5, 6, and 9. The sum of these multiples is 23. Find the sum of all the multiples of 3 or 5 below 1,000. Afterward, write a brief explanation walking through your code's logic in markdown."
   ]
  },
  {
   "cell_type": "code",
   "execution_count": 9,
   "metadata": {},
   "outputs": [
    {
     "name": "stdout",
     "output_type": "stream",
     "text": [
      "233168\n"
     ]
    }
   ],
   "source": [
    "a=[]\n",
    "\n",
    "for i in range(0,1000):\n",
    "    if i%3 == 0:\n",
    "        a.append(i)\n",
    "    elif i%5 == 0:\n",
    "        a.append(i)\n",
    "\n",
    "print(sum(a))"
   ]
  },
  {
   "cell_type": "markdown",
   "metadata": {},
   "source": [
    "1. Build a list of all integers below 1000 that are divisible by either 3 or 5, using the % function (if remainder == 0, add to list).\n",
    "2. sum all list elements."
   ]
  },
  {
   "cell_type": "markdown",
   "metadata": {},
   "source": [
    "### Challenge 4: String Compressor\n",
    "Implement a method to perform basic string compression using the counts of repeated characters. (This is called run-length encoding.) For example, the string \"aabcccccaaa\" would become a2b1c5a3. If the “compressed” string would not become smaller than the original string, your method should return the original string. You can assume the string has only uppercase and lowercase letters (a–z). Specify whether your solution is case sensitive or case insensitive and what you would need to change to make it the other. Afterward, write a brief explanation walking through your code's logic in markdown."
   ]
  },
  {
   "cell_type": "code",
   "execution_count": 6,
   "metadata": {},
   "outputs": [
    {
     "name": "stdout",
     "output_type": "stream",
     "text": [
      "Original string: aaabbbbccccd\n",
      "Compressed string: a3b4c4d1\n"
     ]
    }
   ],
   "source": [
    "mystring = 'Aabbbdcccc'\n",
    "\n",
    "def string_compression(mystring):\n",
    "    mystring = mystring.lower()\n",
    "    #comment out above for a case-sensitive solution\n",
    "    print(\"Original string:\", mystring)\n",
    "    a=[]\n",
    "    compressed=[]\n",
    "    #for each character in string, check if next character is the same or not\n",
    "    for i in range(0,len(mystring)-1):\n",
    "        #if next character is the same, add to a temporary string\n",
    "        if mystring[i] == mystring[i+1]:\n",
    "            a.append(mystring[i+1])\n",
    "        #if not, add current character and count the length of group of same characters; add that to the compressedstring list\n",
    "        else:\n",
    "            a.append(mystring[i])\n",
    "            compresseditem = a[0] + str(len(a))\n",
    "            compressed.append(compresseditem)\n",
    "            a=[]\n",
    "    #add the last character\n",
    "    a.append(mystring[-1:])\n",
    "    compresseditem = a[0] + str(len(a))\n",
    "    compressed.append(compresseditem)\n",
    "    #join list elements into a compressed string\n",
    "    compressedstring = ''.join(compressed)\n",
    "    #only return compressed version if it's shorter than original string\n",
    "    if len(compressedstring) >= len(mystring):\n",
    "        print(\"Original string is shorter than compressed:\", mystring)\n",
    "    else:\n",
    "        print(\"Compressed string:\", compressedstring)\n",
    "    \n",
    "string_compression('aaabbbbccccd')"
   ]
  },
  {
   "cell_type": "markdown",
   "metadata": {},
   "source": [
    "Note: solution is currently case-insensitive, first step in function is to turn entire string into lowercase.  Can comment that line out if we want case-sensitive.\n",
    "\n",
    "1. Define an empty temporary list and a list to build the end result into\n",
    "2. For each character in string, check if next character is the same.  If it is, add it to temporary list.  \n",
    "3. Once we reach the end of a grouping of characters & next character isn't the same, add current temp string + length of string to the final result string.\n",
    "4. Add last character to final result, for loop only iterates through second-to-last since it would break if we try the comparison on a character that doesn't exist.\n",
    "5. Compress list elements into 1 string\n",
    "6. Compare lengths of old & new, only return new string if it's shorter."
   ]
  },
  {
   "cell_type": "markdown",
   "metadata": {},
   "source": [
    "### Challenge 5: FizzBuzz\n",
    "\n",
    "Write a program that prints all of the numbers from 1 to 100. For multiples of 3, instead of the number, print \"Fizz;\" for multiples of 5, print \"Buzz.\" For numbers that are multiples of both 3 and 5, print \"FizzBuzz.\" Afterward, write a brief explanation walking through your code's logic in markdown."
   ]
  },
  {
   "cell_type": "code",
   "execution_count": 10,
   "metadata": {},
   "outputs": [
    {
     "name": "stdout",
     "output_type": "stream",
     "text": [
      "1\n",
      "2\n",
      "Fizz\n",
      "4\n",
      "Buzz\n",
      "Fizz\n",
      "7\n",
      "8\n",
      "Fizz\n",
      "Buzz\n",
      "11\n",
      "Fizz\n",
      "13\n",
      "14\n",
      "FizzBuzz\n",
      "16\n",
      "17\n",
      "Fizz\n",
      "19\n",
      "Buzz\n",
      "Fizz\n",
      "22\n",
      "23\n",
      "Fizz\n",
      "Buzz\n",
      "26\n",
      "Fizz\n",
      "28\n",
      "29\n",
      "FizzBuzz\n",
      "31\n",
      "32\n",
      "Fizz\n",
      "34\n",
      "Buzz\n",
      "Fizz\n",
      "37\n",
      "38\n",
      "Fizz\n",
      "Buzz\n",
      "41\n",
      "Fizz\n",
      "43\n",
      "44\n",
      "FizzBuzz\n",
      "46\n",
      "47\n",
      "Fizz\n",
      "49\n",
      "Buzz\n",
      "Fizz\n",
      "52\n",
      "53\n",
      "Fizz\n",
      "Buzz\n",
      "56\n",
      "Fizz\n",
      "58\n",
      "59\n",
      "FizzBuzz\n",
      "61\n",
      "62\n",
      "Fizz\n",
      "64\n",
      "Buzz\n",
      "Fizz\n",
      "67\n",
      "68\n",
      "Fizz\n",
      "Buzz\n",
      "71\n",
      "Fizz\n",
      "73\n",
      "74\n",
      "FizzBuzz\n",
      "76\n",
      "77\n",
      "Fizz\n",
      "79\n",
      "Buzz\n",
      "Fizz\n",
      "82\n",
      "83\n",
      "Fizz\n",
      "Buzz\n",
      "86\n",
      "Fizz\n",
      "88\n",
      "89\n",
      "FizzBuzz\n",
      "91\n",
      "92\n",
      "Fizz\n",
      "94\n",
      "Buzz\n",
      "Fizz\n",
      "97\n",
      "98\n",
      "Fizz\n",
      "Buzz\n"
     ]
    }
   ],
   "source": [
    "for i in range(1,101):\n",
    "    if (i%3==0) and (i%5==0):\n",
    "        print('FizzBuzz')\n",
    "    elif i%3 == 0:\n",
    "        print('Fizz')\n",
    "    elif i%5 == 0:\n",
    "        print('Buzz')\n",
    "    else:\n",
    "        print(i)"
   ]
  },
  {
   "cell_type": "markdown",
   "metadata": {},
   "source": [
    "1. Iterate through integers 1-100 (inclusive)\n",
    "2. If remainder of i % 3 is 0 AND remainder of i % 5 is 0, print 'FizzBuzz'\n",
    "3. Otherwise, if remainder of i%3 is 0 (but not divisible by 5), print 'Fizz'; if divisible by 5 but not 3, print 'Buzz'\n",
    "4. If not divisible by either 3 or 5, print the number"
   ]
  }
 ],
 "metadata": {
  "anaconda-cloud": {},
  "kernelspec": {
   "display_name": "Python 3",
   "language": "python",
   "name": "python3"
  },
  "language_info": {
   "codemirror_mode": {
    "name": "ipython",
    "version": 3
   },
   "file_extension": ".py",
   "mimetype": "text/x-python",
   "name": "python",
   "nbconvert_exporter": "python",
   "pygments_lexer": "ipython3",
   "version": "3.6.4"
  }
 },
 "nbformat": 4,
 "nbformat_minor": 2
}
